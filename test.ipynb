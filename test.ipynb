{
 "cells": [
  {
   "cell_type": "code",
   "execution_count": 1,
   "metadata": {},
   "outputs": [],
   "source": [
    "import sqlite3\n",
    "import pandas as pd\n",
    "  \n",
    "# Connect to SQLite database\n",
    "conn = sqlite3.connect(r'./db/vivino.db')\n",
    "  \n",
    "# Create a cursor object\n",
    "cur = conn.cursor()"
   ]
  },
  {
   "cell_type": "code",
   "execution_count": 2,
   "metadata": {},
   "outputs": [
    {
     "data": {
      "text/plain": [
       "[('countries',),\n",
       " ('grapes',),\n",
       " ('wineries',),\n",
       " ('flavor_groups',),\n",
       " ('keywords',),\n",
       " ('regions',),\n",
       " ('most_used_grapes_per_country',),\n",
       " ('toplists',),\n",
       " ('wines',),\n",
       " ('vintages',),\n",
       " ('keywords_wine',),\n",
       " ('vintage_toplists_rankings',)]"
      ]
     },
     "execution_count": 2,
     "metadata": {},
     "output_type": "execute_result"
    }
   ],
   "source": [
    "q = \"\"\"\n",
    "SELECT name\n",
    "FROM sqlite_schema\n",
    "WHERE type = 'table' AND name NOT LIKE 'sqlite_%';\n",
    "\"\"\"\n",
    "\n",
    "cur.execute(q).fetchall()"
   ]
  },
  {
   "cell_type": "markdown",
   "metadata": {},
   "source": [
    "# We want to highlight 10 wines to increase our sales. Which ones should we choose and why?"
   ]
  },
  {
   "cell_type": "code",
   "execution_count": 3,
   "metadata": {},
   "outputs": [
    {
     "data": {
      "text/html": [
       "<div>\n",
       "<style scoped>\n",
       "    .dataframe tbody tr th:only-of-type {\n",
       "        vertical-align: middle;\n",
       "    }\n",
       "\n",
       "    .dataframe tbody tr th {\n",
       "        vertical-align: top;\n",
       "    }\n",
       "\n",
       "    .dataframe thead th {\n",
       "        text-align: right;\n",
       "    }\n",
       "</style>\n",
       "<table border=\"1\" class=\"dataframe\">\n",
       "  <thead>\n",
       "    <tr style=\"text-align: right;\">\n",
       "      <th></th>\n",
       "      <th>name</th>\n",
       "      <th>price_euros</th>\n",
       "      <th>ratings_average</th>\n",
       "    </tr>\n",
       "  </thead>\n",
       "  <tbody>\n",
       "    <tr>\n",
       "      <th>0</th>\n",
       "      <td>Château Doisy-Daëne L'Extravagant de Doisy-Daë...</td>\n",
       "      <td>397.50</td>\n",
       "      <td>4.9</td>\n",
       "    </tr>\n",
       "    <tr>\n",
       "      <th>1</th>\n",
       "      <td>Biondi-Santi Brunello di Montalcino Riserva 1955</td>\n",
       "      <td>1970.05</td>\n",
       "      <td>4.9</td>\n",
       "    </tr>\n",
       "    <tr>\n",
       "      <th>2</th>\n",
       "      <td>Château Lafite Rothschild Pauillac (Premier Gr...</td>\n",
       "      <td>1900.00</td>\n",
       "      <td>4.8</td>\n",
       "    </tr>\n",
       "    <tr>\n",
       "      <th>3</th>\n",
       "      <td>Krug Clos du Mesnil 1998</td>\n",
       "      <td>3522.50</td>\n",
       "      <td>4.8</td>\n",
       "    </tr>\n",
       "    <tr>\n",
       "      <th>4</th>\n",
       "      <td>Salon Le Mesnil Blanc de Blancs (Cuvée S) Brut...</td>\n",
       "      <td>2882.50</td>\n",
       "      <td>4.8</td>\n",
       "    </tr>\n",
       "    <tr>\n",
       "      <th>5</th>\n",
       "      <td>Dal Forno Romano Amarone della Valpolicella Mo...</td>\n",
       "      <td>808.75</td>\n",
       "      <td>4.8</td>\n",
       "    </tr>\n",
       "    <tr>\n",
       "      <th>6</th>\n",
       "      <td>Harlan Estate Harlan Estate Red 1998</td>\n",
       "      <td>1921.25</td>\n",
       "      <td>4.8</td>\n",
       "    </tr>\n",
       "    <tr>\n",
       "      <th>7</th>\n",
       "      <td>Krug Clos du Mesnil 2000</td>\n",
       "      <td>3096.25</td>\n",
       "      <td>4.8</td>\n",
       "    </tr>\n",
       "    <tr>\n",
       "      <th>8</th>\n",
       "      <td>Quinta do Noval Vintage Port Nacional 2001</td>\n",
       "      <td>1152.50</td>\n",
       "      <td>4.8</td>\n",
       "    </tr>\n",
       "    <tr>\n",
       "      <th>9</th>\n",
       "      <td>Pétrus Pomerol 1990</td>\n",
       "      <td>6300.00</td>\n",
       "      <td>4.8</td>\n",
       "    </tr>\n",
       "  </tbody>\n",
       "</table>\n",
       "</div>"
      ],
      "text/plain": [
       "                                                name  price_euros  \\\n",
       "0  Château Doisy-Daëne L'Extravagant de Doisy-Daë...       397.50   \n",
       "1   Biondi-Santi Brunello di Montalcino Riserva 1955      1970.05   \n",
       "2  Château Lafite Rothschild Pauillac (Premier Gr...      1900.00   \n",
       "3                           Krug Clos du Mesnil 1998      3522.50   \n",
       "4  Salon Le Mesnil Blanc de Blancs (Cuvée S) Brut...      2882.50   \n",
       "5  Dal Forno Romano Amarone della Valpolicella Mo...       808.75   \n",
       "6               Harlan Estate Harlan Estate Red 1998      1921.25   \n",
       "7                           Krug Clos du Mesnil 2000      3096.25   \n",
       "8         Quinta do Noval Vintage Port Nacional 2001      1152.50   \n",
       "9                                Pétrus Pomerol 1990      6300.00   \n",
       "\n",
       "   ratings_average  \n",
       "0              4.9  \n",
       "1              4.9  \n",
       "2              4.8  \n",
       "3              4.8  \n",
       "4              4.8  \n",
       "5              4.8  \n",
       "6              4.8  \n",
       "7              4.8  \n",
       "8              4.8  \n",
       "9              4.8  "
      ]
     },
     "execution_count": 3,
     "metadata": {},
     "output_type": "execute_result"
    }
   ],
   "source": [
    "q = \"\"\"\n",
    "SELECT name, price_euros, ratings_average\n",
    "FROM (\n",
    "SELECT *\n",
    "FROM vintages\n",
    "JOIN wines\n",
    "ON wines.id = vintages.wine_id\n",
    "ORDER BY ratings_average DESC\n",
    "LIMIT 10);\n",
    "\"\"\"\n",
    "\n",
    "cur.execute(q).fetchall()\n",
    "df  = pd.read_sql_query (q, conn)\n",
    "df"
   ]
  },
  {
   "cell_type": "code",
   "execution_count": 4,
   "metadata": {},
   "outputs": [
    {
     "data": {
      "text/html": [
       "<div>\n",
       "<style scoped>\n",
       "    .dataframe tbody tr th:only-of-type {\n",
       "        vertical-align: middle;\n",
       "    }\n",
       "\n",
       "    .dataframe tbody tr th {\n",
       "        vertical-align: top;\n",
       "    }\n",
       "\n",
       "    .dataframe thead th {\n",
       "        text-align: right;\n",
       "    }\n",
       "</style>\n",
       "<table border=\"1\" class=\"dataframe\">\n",
       "  <thead>\n",
       "    <tr style=\"text-align: right;\">\n",
       "      <th></th>\n",
       "      <th>name</th>\n",
       "      <th>price_euros</th>\n",
       "      <th>user_structure_count</th>\n",
       "    </tr>\n",
       "  </thead>\n",
       "  <tbody>\n",
       "    <tr>\n",
       "      <th>0</th>\n",
       "      <td>Dom Pérignon Brut Champagne 2000</td>\n",
       "      <td>638.83</td>\n",
       "      <td>13491</td>\n",
       "    </tr>\n",
       "    <tr>\n",
       "      <th>1</th>\n",
       "      <td>Dom Pérignon Brut Champagne 2004</td>\n",
       "      <td>460.00</td>\n",
       "      <td>13491</td>\n",
       "    </tr>\n",
       "    <tr>\n",
       "      <th>2</th>\n",
       "      <td>Dom Pérignon Brut Champagne 2006</td>\n",
       "      <td>440.00</td>\n",
       "      <td>13491</td>\n",
       "    </tr>\n",
       "    <tr>\n",
       "      <th>3</th>\n",
       "      <td>Dom Pérignon Brut Champagne 2013</td>\n",
       "      <td>250.00</td>\n",
       "      <td>13491</td>\n",
       "    </tr>\n",
       "    <tr>\n",
       "      <th>4</th>\n",
       "      <td>Dom Pérignon Brut Champagne 2012</td>\n",
       "      <td>397.50</td>\n",
       "      <td>13491</td>\n",
       "    </tr>\n",
       "    <tr>\n",
       "      <th>5</th>\n",
       "      <td>Antinori Tignanello 2005</td>\n",
       "      <td>750.00</td>\n",
       "      <td>8219</td>\n",
       "    </tr>\n",
       "    <tr>\n",
       "      <th>6</th>\n",
       "      <td>Antinori Tignanello 1997</td>\n",
       "      <td>491.25</td>\n",
       "      <td>8219</td>\n",
       "    </tr>\n",
       "    <tr>\n",
       "      <th>7</th>\n",
       "      <td>Antinori Tignanello 2003</td>\n",
       "      <td>840.00</td>\n",
       "      <td>8219</td>\n",
       "    </tr>\n",
       "    <tr>\n",
       "      <th>8</th>\n",
       "      <td>Antinori Tignanello 1989</td>\n",
       "      <td>287.50</td>\n",
       "      <td>8219</td>\n",
       "    </tr>\n",
       "    <tr>\n",
       "      <th>9</th>\n",
       "      <td>Antinori Tignanello 1998</td>\n",
       "      <td>820.00</td>\n",
       "      <td>8219</td>\n",
       "    </tr>\n",
       "  </tbody>\n",
       "</table>\n",
       "</div>"
      ],
      "text/plain": [
       "                               name  price_euros  user_structure_count\n",
       "0  Dom Pérignon Brut Champagne 2000       638.83                 13491\n",
       "1  Dom Pérignon Brut Champagne 2004       460.00                 13491\n",
       "2  Dom Pérignon Brut Champagne 2006       440.00                 13491\n",
       "3  Dom Pérignon Brut Champagne 2013       250.00                 13491\n",
       "4  Dom Pérignon Brut Champagne 2012       397.50                 13491\n",
       "5          Antinori Tignanello 2005       750.00                  8219\n",
       "6          Antinori Tignanello 1997       491.25                  8219\n",
       "7          Antinori Tignanello 2003       840.00                  8219\n",
       "8          Antinori Tignanello 1989       287.50                  8219\n",
       "9          Antinori Tignanello 1998       820.00                  8219"
      ]
     },
     "execution_count": 4,
     "metadata": {},
     "output_type": "execute_result"
    }
   ],
   "source": [
    "q = \"\"\"\n",
    "SELECT name, price_euros, user_structure_count\n",
    "FROM (\n",
    "SELECT *\n",
    "FROM vintages\n",
    "JOIN wines\n",
    "ON wines.id = vintages.wine_id\n",
    "ORDER BY user_structure_count DESC\n",
    "LIMIT 10);\n",
    "\"\"\"\n",
    "\n",
    "cur.execute(q).fetchall()\n",
    "df  = pd.read_sql_query (q, conn)\n",
    "df"
   ]
  },
  {
   "cell_type": "code",
   "execution_count": 5,
   "metadata": {},
   "outputs": [
    {
     "data": {
      "text/html": [
       "<div>\n",
       "<style scoped>\n",
       "    .dataframe tbody tr th:only-of-type {\n",
       "        vertical-align: middle;\n",
       "    }\n",
       "\n",
       "    .dataframe tbody tr th {\n",
       "        vertical-align: top;\n",
       "    }\n",
       "\n",
       "    .dataframe thead th {\n",
       "        text-align: right;\n",
       "    }\n",
       "</style>\n",
       "<table border=\"1\" class=\"dataframe\">\n",
       "  <thead>\n",
       "    <tr style=\"text-align: right;\">\n",
       "      <th></th>\n",
       "      <th>name</th>\n",
       "      <th>price_euros</th>\n",
       "      <th>name</th>\n",
       "      <th>wine_id</th>\n",
       "    </tr>\n",
       "  </thead>\n",
       "  <tbody>\n",
       "    <tr>\n",
       "      <th>0</th>\n",
       "      <td>Gitana Lupi Rezerva 2017</td>\n",
       "      <td>36.55</td>\n",
       "      <td>Bestsellers in Arizona</td>\n",
       "      <td>1468452</td>\n",
       "    </tr>\n",
       "    <tr>\n",
       "      <th>1</th>\n",
       "      <td>Dom Pérignon Brut Champagne 2013</td>\n",
       "      <td>250.00</td>\n",
       "      <td>Bestsellers in Tennessee</td>\n",
       "      <td>86684</td>\n",
       "    </tr>\n",
       "    <tr>\n",
       "      <th>2</th>\n",
       "      <td>Billecart-Salmon Brut Rosé Champagne</td>\n",
       "      <td>81.50</td>\n",
       "      <td>Bestsellers in Arizona</td>\n",
       "      <td>1211816</td>\n",
       "    </tr>\n",
       "    <tr>\n",
       "      <th>3</th>\n",
       "      <td>Buena Vista Chateau Buena Vista Cabernet Sauvi...</td>\n",
       "      <td>61.95</td>\n",
       "      <td>Bestsellers in Utah</td>\n",
       "      <td>5261</td>\n",
       "    </tr>\n",
       "    <tr>\n",
       "      <th>4</th>\n",
       "      <td>Zenato Amarone della Valpolicella Classico 2017</td>\n",
       "      <td>51.90</td>\n",
       "      <td>Bestsellers in Nevada</td>\n",
       "      <td>12393</td>\n",
       "    </tr>\n",
       "    <tr>\n",
       "      <th>5</th>\n",
       "      <td>San Marzano 60 Sessantanni Old Vines Primitivo...</td>\n",
       "      <td>24.75</td>\n",
       "      <td>Bestsellers in Massachusetts</td>\n",
       "      <td>11890</td>\n",
       "    </tr>\n",
       "    <tr>\n",
       "      <th>6</th>\n",
       "      <td>San Marzano 60 Sessantanni Old Vines Primitivo...</td>\n",
       "      <td>24.75</td>\n",
       "      <td>Bestsellers in North Dakota</td>\n",
       "      <td>11890</td>\n",
       "    </tr>\n",
       "    <tr>\n",
       "      <th>7</th>\n",
       "      <td>Chateau Montelena Chardonnay 2019</td>\n",
       "      <td>78.95</td>\n",
       "      <td>Bestsellers in Montana</td>\n",
       "      <td>1697</td>\n",
       "    </tr>\n",
       "    <tr>\n",
       "      <th>8</th>\n",
       "      <td>Château Pape Clément Pessac-Léognan (Grand Cru...</td>\n",
       "      <td>121.95</td>\n",
       "      <td>Bestsellers in New Mexico</td>\n",
       "      <td>82613</td>\n",
       "    </tr>\n",
       "    <tr>\n",
       "      <th>9</th>\n",
       "      <td>Kistler Les Noisetiers 2020</td>\n",
       "      <td>94.00</td>\n",
       "      <td>Bestsellers in Wyoming</td>\n",
       "      <td>1155762</td>\n",
       "    </tr>\n",
       "  </tbody>\n",
       "</table>\n",
       "</div>"
      ],
      "text/plain": [
       "                                                name  price_euros  \\\n",
       "0                           Gitana Lupi Rezerva 2017        36.55   \n",
       "1                   Dom Pérignon Brut Champagne 2013       250.00   \n",
       "2               Billecart-Salmon Brut Rosé Champagne        81.50   \n",
       "3  Buena Vista Chateau Buena Vista Cabernet Sauvi...        61.95   \n",
       "4    Zenato Amarone della Valpolicella Classico 2017        51.90   \n",
       "5  San Marzano 60 Sessantanni Old Vines Primitivo...        24.75   \n",
       "6  San Marzano 60 Sessantanni Old Vines Primitivo...        24.75   \n",
       "7                  Chateau Montelena Chardonnay 2019        78.95   \n",
       "8  Château Pape Clément Pessac-Léognan (Grand Cru...       121.95   \n",
       "9                        Kistler Les Noisetiers 2020        94.00   \n",
       "\n",
       "                           name  wine_id  \n",
       "0        Bestsellers in Arizona  1468452  \n",
       "1      Bestsellers in Tennessee    86684  \n",
       "2        Bestsellers in Arizona  1211816  \n",
       "3           Bestsellers in Utah     5261  \n",
       "4         Bestsellers in Nevada    12393  \n",
       "5  Bestsellers in Massachusetts    11890  \n",
       "6   Bestsellers in North Dakota    11890  \n",
       "7        Bestsellers in Montana     1697  \n",
       "8     Bestsellers in New Mexico    82613  \n",
       "9        Bestsellers in Wyoming  1155762  "
      ]
     },
     "execution_count": 5,
     "metadata": {},
     "output_type": "execute_result"
    }
   ],
   "source": [
    "q = \"\"\"\n",
    "WITH q AS (\n",
    "    SELECT *\n",
    "    FROM toplists\n",
    "    JOIN countries ON toplists.country_code = countries.code\n",
    "),\n",
    "p AS (\n",
    "    SELECT *\n",
    "    FROM vintages\n",
    "    JOIN vintage_toplists_rankings ON vintages.id = vintage_toplists_rankings.vintage_id\n",
    ")\n",
    "    SELECT DISTINCT p.name, p.price_euros, q.name, p.wine_id\n",
    "    FROM q\n",
    "    JOIN p ON p.top_list_id = q.id\n",
    "    ORDER BY q.users_count DESC\n",
    "    LIMIT 10;\n",
    "\n",
    "\"\"\"\n",
    "\n",
    "cur.execute(q).fetchall()\n",
    "df  = pd.read_sql_query (q, conn)\n",
    "\n",
    "df"
   ]
  },
  {
   "cell_type": "markdown",
   "metadata": {},
   "source": [
    "# We have a limited marketing budget for this year. Which country should we prioritise and why?\n"
   ]
  },
  {
   "cell_type": "code",
   "execution_count": 6,
   "metadata": {},
   "outputs": [
    {
     "data": {
      "text/html": [
       "<div>\n",
       "<style scoped>\n",
       "    .dataframe tbody tr th:only-of-type {\n",
       "        vertical-align: middle;\n",
       "    }\n",
       "\n",
       "    .dataframe tbody tr th {\n",
       "        vertical-align: top;\n",
       "    }\n",
       "\n",
       "    .dataframe thead th {\n",
       "        text-align: right;\n",
       "    }\n",
       "</style>\n",
       "<table border=\"1\" class=\"dataframe\">\n",
       "  <thead>\n",
       "    <tr style=\"text-align: right;\">\n",
       "      <th></th>\n",
       "      <th>name</th>\n",
       "      <th>users_count</th>\n",
       "    </tr>\n",
       "  </thead>\n",
       "  <tbody>\n",
       "    <tr>\n",
       "      <th>0</th>\n",
       "      <td>États-Unis</td>\n",
       "      <td>12273684</td>\n",
       "    </tr>\n",
       "  </tbody>\n",
       "</table>\n",
       "</div>"
      ],
      "text/plain": [
       "         name  users_count\n",
       "0  États-Unis     12273684"
      ]
     },
     "execution_count": 6,
     "metadata": {},
     "output_type": "execute_result"
    }
   ],
   "source": [
    "q = \"\"\" \n",
    "SELECT name, users_count\n",
    "FROM countries\n",
    "ORDER by users_count DESC\n",
    "LIMIT 1\n",
    "\"\"\"\n",
    "\n",
    "cur.execute(q).fetchall()\n",
    "\n",
    "df  = pd.read_sql_query (q, conn)\n",
    "df\n"
   ]
  },
  {
   "cell_type": "markdown",
   "metadata": {},
   "source": [
    "# We would like to give awards to the best wineries. Come up with 3 relevant ones. Which wineries should we choose and why?\n"
   ]
  },
  {
   "cell_type": "markdown",
   "metadata": {},
   "source": [
    "## Most wines produced"
   ]
  },
  {
   "cell_type": "code",
   "execution_count": 7,
   "metadata": {},
   "outputs": [
    {
     "data": {
      "text/html": [
       "<div>\n",
       "<style scoped>\n",
       "    .dataframe tbody tr th:only-of-type {\n",
       "        vertical-align: middle;\n",
       "    }\n",
       "\n",
       "    .dataframe tbody tr th {\n",
       "        vertical-align: top;\n",
       "    }\n",
       "\n",
       "    .dataframe thead th {\n",
       "        text-align: right;\n",
       "    }\n",
       "</style>\n",
       "<table border=\"1\" class=\"dataframe\">\n",
       "  <thead>\n",
       "    <tr style=\"text-align: right;\">\n",
       "      <th></th>\n",
       "      <th>winery_name</th>\n",
       "      <th>wine_name</th>\n",
       "      <th>winery_id</th>\n",
       "      <th>num_wines</th>\n",
       "    </tr>\n",
       "  </thead>\n",
       "  <tbody>\n",
       "    <tr>\n",
       "      <th>0</th>\n",
       "      <td>Gaja</td>\n",
       "      <td>Barbaresco</td>\n",
       "      <td>10474</td>\n",
       "      <td>12</td>\n",
       "    </tr>\n",
       "    <tr>\n",
       "      <th>1</th>\n",
       "      <td>Domaine Faiveley</td>\n",
       "      <td>Nuits-Saint-Georges 1er Cru Les Damodes</td>\n",
       "      <td>9294</td>\n",
       "      <td>10</td>\n",
       "    </tr>\n",
       "    <tr>\n",
       "      <th>2</th>\n",
       "      <td>Antinori</td>\n",
       "      <td>Tenuta Tignanello 'Solaia'</td>\n",
       "      <td>1252</td>\n",
       "      <td>9</td>\n",
       "    </tr>\n",
       "  </tbody>\n",
       "</table>\n",
       "</div>"
      ],
      "text/plain": [
       "         winery_name                                wine_name  winery_id  \\\n",
       "0              Gaja                                Barbaresco      10474   \n",
       "1  Domaine Faiveley   Nuits-Saint-Georges 1er Cru Les Damodes       9294   \n",
       "2          Antinori                Tenuta Tignanello 'Solaia'       1252   \n",
       "\n",
       "   num_wines  \n",
       "0         12  \n",
       "1         10  \n",
       "2          9  "
      ]
     },
     "execution_count": 7,
     "metadata": {},
     "output_type": "execute_result"
    }
   ],
   "source": [
    "q = \"\"\" \n",
    "WITH wineries_ids AS (\n",
    "SELECT name AS wine_name, winery_id, count(*) AS num_wines, id AS wine_id\n",
    "FROM wines\n",
    "GROUP BY winery_id)\n",
    "\n",
    "SELECT SUBSTR(REPLACE(vintages.name, wineries_ids.wine_name, ''), 1, LENGTH(REPLACE(vintages.name, wineries_ids.wine_name, ''))-5) as winery_name, \n",
    "wineries_ids.wine_name, wineries_ids.winery_id, wineries_ids.num_wines\n",
    "FROM vintages\n",
    "JOIN wineries_ids ON wineries_ids.wine_id = vintages.wine_id\n",
    "GROUP BY winery_name\n",
    "ORDER BY num_wines DESC\n",
    "LIMIT 3\n",
    "\n",
    "\n",
    "\n",
    "\"\"\"\n",
    "cur.execute(q).fetchall()\n",
    "df = pd.read_sql_query(q, conn)\n",
    "df\n",
    "\n",
    "\n",
    "\n",
    "#These winery_id don't correspond with any ids in wineries table so we can't have the name of these wineries"
   ]
  },
  {
   "cell_type": "markdown",
   "metadata": {},
   "source": [
    "## Quantity of the bestsellers produced\n"
   ]
  },
  {
   "cell_type": "code",
   "execution_count": 8,
   "metadata": {},
   "outputs": [
    {
     "data": {
      "text/html": [
       "<div>\n",
       "<style scoped>\n",
       "    .dataframe tbody tr th:only-of-type {\n",
       "        vertical-align: middle;\n",
       "    }\n",
       "\n",
       "    .dataframe tbody tr th {\n",
       "        vertical-align: top;\n",
       "    }\n",
       "\n",
       "    .dataframe thead th {\n",
       "        text-align: right;\n",
       "    }\n",
       "</style>\n",
       "<table border=\"1\" class=\"dataframe\">\n",
       "  <thead>\n",
       "    <tr style=\"text-align: right;\">\n",
       "      <th></th>\n",
       "      <th>winery_name</th>\n",
       "      <th>wine_name</th>\n",
       "      <th>winery_id</th>\n",
       "      <th>num_wines</th>\n",
       "    </tr>\n",
       "  </thead>\n",
       "  <tbody>\n",
       "    <tr>\n",
       "      <th>0</th>\n",
       "      <td>San Marzano 60 Sessantanni Old Vines Primitivo...</td>\n",
       "      <td>San Marzano 60 Sessantanni Old Vines Primitivo...</td>\n",
       "      <td>55648</td>\n",
       "      <td>5</td>\n",
       "    </tr>\n",
       "    <tr>\n",
       "      <th>1</th>\n",
       "      <td>Zenato Amarone della Valpolicella Classico</td>\n",
       "      <td>Zenato Amarone della Valpolicella Classico 2017</td>\n",
       "      <td>1583</td>\n",
       "      <td>1</td>\n",
       "    </tr>\n",
       "    <tr>\n",
       "      <th>2</th>\n",
       "      <td>Pintia Toro</td>\n",
       "      <td>Pintia Toro 2018</td>\n",
       "      <td>1740</td>\n",
       "      <td>1</td>\n",
       "    </tr>\n",
       "  </tbody>\n",
       "</table>\n",
       "</div>"
      ],
      "text/plain": [
       "                                         winery_name  \\\n",
       "0  San Marzano 60 Sessantanni Old Vines Primitivo...   \n",
       "1         Zenato Amarone della Valpolicella Classico   \n",
       "2                                        Pintia Toro   \n",
       "\n",
       "                                           wine_name  winery_id  num_wines  \n",
       "0  San Marzano 60 Sessantanni Old Vines Primitivo...      55648          5  \n",
       "1    Zenato Amarone della Valpolicella Classico 2017       1583          1  \n",
       "2                                   Pintia Toro 2018       1740          1  "
      ]
     },
     "execution_count": 8,
     "metadata": {},
     "output_type": "execute_result"
    }
   ],
   "source": [
    "rq = \"\"\"\n",
    "WITH q AS (\n",
    "    SELECT *\n",
    "    FROM toplists\n",
    "    JOIN countries ON toplists.country_code = countries.code\n",
    "),\n",
    "p AS (\n",
    "    SELECT *\n",
    "    FROM vintages\n",
    "    JOIN vintage_toplists_rankings ON vintages.id = vintage_toplists_rankings.vintage_id\n",
    "),\n",
    "w as(\n",
    "    SELECT DISTINCT p.name as wine_name, p.price_euros, q.name, p.wine_id\n",
    "    FROM q\n",
    "    JOIN p ON p.top_list_id = q.id\n",
    "), wineries_ids AS(\n",
    "SELECT w.wine_name, winery_id, count(*) AS num_wines, w.wine_id\n",
    "FROM wines\n",
    "JOIN w ON w.wine_id = wines.id\n",
    "GROUP BY winery_id)\n",
    "\n",
    "SELECT SUBSTR(REPLACE(vintages.name, wineries_ids.wine_name, ''), 1, LENGTH(REPLACE(vintages.name, wineries_ids.wine_name, ''))-5) as winery_name, \n",
    "wineries_ids.wine_name, wineries_ids.winery_id, wineries_ids.num_wines\n",
    "FROM vintages\n",
    "JOIN wineries_ids ON wineries_ids.wine_id = vintages.wine_id\n",
    "GROUP BY winery_name\n",
    "ORDER BY num_wines DESC\n",
    "LIMIT 3\n",
    "\n",
    "\"\"\"\n",
    "\n",
    "cur.execute(rq).fetchall()\n",
    "df  = pd.read_sql_query (rq, conn)\n",
    "df\n",
    "\n",
    "#these wineryids also doesn't appear in wineries table \n"
   ]
  },
  {
   "cell_type": "markdown",
   "metadata": {},
   "source": [
    "## Highest average rating"
   ]
  },
  {
   "cell_type": "code",
   "execution_count": 9,
   "metadata": {},
   "outputs": [
    {
     "data": {
      "text/html": [
       "<div>\n",
       "<style scoped>\n",
       "    .dataframe tbody tr th:only-of-type {\n",
       "        vertical-align: middle;\n",
       "    }\n",
       "\n",
       "    .dataframe tbody tr th {\n",
       "        vertical-align: top;\n",
       "    }\n",
       "\n",
       "    .dataframe thead th {\n",
       "        text-align: right;\n",
       "    }\n",
       "</style>\n",
       "<table border=\"1\" class=\"dataframe\">\n",
       "  <thead>\n",
       "    <tr style=\"text-align: right;\">\n",
       "      <th></th>\n",
       "      <th>winery_id</th>\n",
       "      <th>avg_rating</th>\n",
       "    </tr>\n",
       "  </thead>\n",
       "  <tbody>\n",
       "    <tr>\n",
       "      <th>0</th>\n",
       "      <td>277785</td>\n",
       "      <td>4.8</td>\n",
       "    </tr>\n",
       "    <tr>\n",
       "      <th>1</th>\n",
       "      <td>266660</td>\n",
       "      <td>4.8</td>\n",
       "    </tr>\n",
       "    <tr>\n",
       "      <th>2</th>\n",
       "      <td>14919</td>\n",
       "      <td>4.8</td>\n",
       "    </tr>\n",
       "  </tbody>\n",
       "</table>\n",
       "</div>"
      ],
      "text/plain": [
       "   winery_id  avg_rating\n",
       "0     277785         4.8\n",
       "1     266660         4.8\n",
       "2      14919         4.8"
      ]
     },
     "execution_count": 9,
     "metadata": {},
     "output_type": "execute_result"
    }
   ],
   "source": [
    "q = \"\"\" \n",
    "\n",
    "SELECT winery_id, AVG(ratings_average) AS avg_rating\n",
    "FROM wines\n",
    "GROUP BY winery_id\n",
    "ORDER BY avg_rating DESC\n",
    "LIMIT 3;\n",
    "\n",
    "\n",
    "\"\"\"\n",
    "cur.execute(q).fetchall()\n",
    "df = pd.read_sql_query(q, conn)\n",
    "df\n"
   ]
  },
  {
   "cell_type": "markdown",
   "metadata": {},
   "source": [
    "# We detected that a big cluster of customers likes a specific combination of tastes. We identified a few keywords that match these tastes: coffee, toast, green apple, cream, and citrus (note that these keywords are case sensitive ⚠️). We would like you to find all the wines that are related to these keywords. Check that at least 10 users confirm those keywords, to ensure the accuracy of the selection. Additionally, identify an appropriate group name for this cluster."
   ]
  },
  {
   "cell_type": "code",
   "execution_count": 12,
   "metadata": {},
   "outputs": [
    {
     "data": {
      "text/html": [
       "<div>\n",
       "<style scoped>\n",
       "    .dataframe tbody tr th:only-of-type {\n",
       "        vertical-align: middle;\n",
       "    }\n",
       "\n",
       "    .dataframe tbody tr th {\n",
       "        vertical-align: top;\n",
       "    }\n",
       "\n",
       "    .dataframe thead th {\n",
       "        text-align: right;\n",
       "    }\n",
       "</style>\n",
       "<table border=\"1\" class=\"dataframe\">\n",
       "  <thead>\n",
       "    <tr style=\"text-align: right;\">\n",
       "      <th></th>\n",
       "      <th>wine_id</th>\n",
       "      <th>count</th>\n",
       "      <th>name</th>\n",
       "      <th>id</th>\n",
       "      <th>name</th>\n",
       "    </tr>\n",
       "  </thead>\n",
       "  <tbody>\n",
       "    <tr>\n",
       "      <th>0</th>\n",
       "      <td>82698</td>\n",
       "      <td>15</td>\n",
       "      <td>Brunello di Montalcino Riserva</td>\n",
       "      <td>117</td>\n",
       "      <td>coffee</td>\n",
       "    </tr>\n",
       "    <tr>\n",
       "      <th>1</th>\n",
       "      <td>1166837</td>\n",
       "      <td>49</td>\n",
       "      <td>Pomerol</td>\n",
       "      <td>117</td>\n",
       "      <td>coffee</td>\n",
       "    </tr>\n",
       "    <tr>\n",
       "      <th>2</th>\n",
       "      <td>1166837</td>\n",
       "      <td>18</td>\n",
       "      <td>Pomerol</td>\n",
       "      <td>123</td>\n",
       "      <td>cream</td>\n",
       "    </tr>\n",
       "    <tr>\n",
       "      <th>3</th>\n",
       "      <td>1127349</td>\n",
       "      <td>240</td>\n",
       "      <td>Le Mesnil Blanc de Blancs (Cuvée S) Brut Champ...</td>\n",
       "      <td>106</td>\n",
       "      <td>citrus</td>\n",
       "    </tr>\n",
       "    <tr>\n",
       "      <th>4</th>\n",
       "      <td>1127349</td>\n",
       "      <td>100</td>\n",
       "      <td>Le Mesnil Blanc de Blancs (Cuvée S) Brut Champ...</td>\n",
       "      <td>417</td>\n",
       "      <td>toast</td>\n",
       "    </tr>\n",
       "    <tr>\n",
       "      <th>...</th>\n",
       "      <td>...</td>\n",
       "      <td>...</td>\n",
       "      <td>...</td>\n",
       "      <td>...</td>\n",
       "      <td>...</td>\n",
       "    </tr>\n",
       "    <tr>\n",
       "      <th>1067</th>\n",
       "      <td>74300</td>\n",
       "      <td>125</td>\n",
       "      <td>Blanc de Blancs Brut Champagne (Vintage)</td>\n",
       "      <td>9</td>\n",
       "      <td>apple</td>\n",
       "    </tr>\n",
       "    <tr>\n",
       "      <th>1068</th>\n",
       "      <td>74300</td>\n",
       "      <td>143</td>\n",
       "      <td>Blanc de Blancs Brut Champagne (Vintage)</td>\n",
       "      <td>106</td>\n",
       "      <td>citrus</td>\n",
       "    </tr>\n",
       "    <tr>\n",
       "      <th>1069</th>\n",
       "      <td>74300</td>\n",
       "      <td>56</td>\n",
       "      <td>Blanc de Blancs Brut Champagne (Vintage)</td>\n",
       "      <td>417</td>\n",
       "      <td>toast</td>\n",
       "    </tr>\n",
       "    <tr>\n",
       "      <th>1070</th>\n",
       "      <td>74300</td>\n",
       "      <td>92</td>\n",
       "      <td>Blanc de Blancs Brut Champagne (Vintage)</td>\n",
       "      <td>123</td>\n",
       "      <td>cream</td>\n",
       "    </tr>\n",
       "    <tr>\n",
       "      <th>1071</th>\n",
       "      <td>23094</td>\n",
       "      <td>23</td>\n",
       "      <td>25 anni Montefalco Sagrantino</td>\n",
       "      <td>117</td>\n",
       "      <td>coffee</td>\n",
       "    </tr>\n",
       "  </tbody>\n",
       "</table>\n",
       "<p>1072 rows × 5 columns</p>\n",
       "</div>"
      ],
      "text/plain": [
       "      wine_id  count                                               name   id  \\\n",
       "0       82698     15                     Brunello di Montalcino Riserva  117   \n",
       "1     1166837     49                                            Pomerol  117   \n",
       "2     1166837     18                                            Pomerol  123   \n",
       "3     1127349    240  Le Mesnil Blanc de Blancs (Cuvée S) Brut Champ...  106   \n",
       "4     1127349    100  Le Mesnil Blanc de Blancs (Cuvée S) Brut Champ...  417   \n",
       "...       ...    ...                                                ...  ...   \n",
       "1067    74300    125           Blanc de Blancs Brut Champagne (Vintage)    9   \n",
       "1068    74300    143           Blanc de Blancs Brut Champagne (Vintage)  106   \n",
       "1069    74300     56           Blanc de Blancs Brut Champagne (Vintage)  417   \n",
       "1070    74300     92           Blanc de Blancs Brut Champagne (Vintage)  123   \n",
       "1071    23094     23                      25 anni Montefalco Sagrantino  117   \n",
       "\n",
       "        name  \n",
       "0     coffee  \n",
       "1     coffee  \n",
       "2      cream  \n",
       "3     citrus  \n",
       "4      toast  \n",
       "...      ...  \n",
       "1067   apple  \n",
       "1068  citrus  \n",
       "1069   toast  \n",
       "1070   cream  \n",
       "1071  coffee  \n",
       "\n",
       "[1072 rows x 5 columns]"
      ]
     },
     "execution_count": 12,
     "metadata": {},
     "output_type": "execute_result"
    }
   ],
   "source": [
    "\n",
    "q = \"\"\" \n",
    "WITH flavour_ids AS (\n",
    "SELECT id, name\n",
    "FROM keywords\n",
    "WHERE name IN ('coffee', 'toast', 'green', 'apple', 'cream', 'citrus'))\n",
    "\n",
    "SELECT DISTINCT wine_id, count, wines.name, flavour_ids.id, flavour_ids.name\n",
    "FROM keywords_wine\n",
    "JOIN flavour_ids ON keywords_wine.keyword_id = flavour_ids.id\n",
    "JOIN wines ON wines.id = keywords_wine.wine_id\n",
    "WHERE count >= 10\n",
    "\"\"\"\n",
    "\n",
    "cur.execute(q).fetchall()\n",
    "df = pd.read_sql_query(q, conn)\n",
    "df\n"
   ]
  },
  {
   "cell_type": "markdown",
   "metadata": {},
   "source": [
    "# We would like to select wines that are easy to find all over the world. Find the top 3 most common grapes all over the world and for each grape, give us the the 5 best rated wines."
   ]
  },
  {
   "cell_type": "code",
   "execution_count": 13,
   "metadata": {},
   "outputs": [
    {
     "data": {
      "text/html": [
       "<div>\n",
       "<style scoped>\n",
       "    .dataframe tbody tr th:only-of-type {\n",
       "        vertical-align: middle;\n",
       "    }\n",
       "\n",
       "    .dataframe tbody tr th {\n",
       "        vertical-align: top;\n",
       "    }\n",
       "\n",
       "    .dataframe thead th {\n",
       "        text-align: right;\n",
       "    }\n",
       "</style>\n",
       "<table border=\"1\" class=\"dataframe\">\n",
       "  <thead>\n",
       "    <tr style=\"text-align: right;\">\n",
       "      <th></th>\n",
       "      <th>name</th>\n",
       "      <th>grape_name</th>\n",
       "      <th>ratings_average</th>\n",
       "    </tr>\n",
       "  </thead>\n",
       "  <tbody>\n",
       "    <tr>\n",
       "      <th>0</th>\n",
       "      <td>Amarone della Valpolicella Classico Riserva</td>\n",
       "      <td>Chardonnay</td>\n",
       "      <td>4.8</td>\n",
       "    </tr>\n",
       "    <tr>\n",
       "      <th>1</th>\n",
       "      <td>Fratini Bolgheri Superiore</td>\n",
       "      <td>Chardonnay</td>\n",
       "      <td>4.8</td>\n",
       "    </tr>\n",
       "    <tr>\n",
       "      <th>2</th>\n",
       "      <td>Cerretalto Brunello di Montalcino</td>\n",
       "      <td>Chardonnay</td>\n",
       "      <td>4.7</td>\n",
       "    </tr>\n",
       "    <tr>\n",
       "      <th>3</th>\n",
       "      <td>Barolo Riserva Monfortino</td>\n",
       "      <td>Chardonnay</td>\n",
       "      <td>4.7</td>\n",
       "    </tr>\n",
       "    <tr>\n",
       "      <th>4</th>\n",
       "      <td>Amarone della Valpolicella Classico</td>\n",
       "      <td>Chardonnay</td>\n",
       "      <td>4.7</td>\n",
       "    </tr>\n",
       "  </tbody>\n",
       "</table>\n",
       "</div>"
      ],
      "text/plain": [
       "                                          name  grape_name  ratings_average\n",
       "0  Amarone della Valpolicella Classico Riserva  Chardonnay              4.8\n",
       "1                   Fratini Bolgheri Superiore  Chardonnay              4.8\n",
       "2            Cerretalto Brunello di Montalcino  Chardonnay              4.7\n",
       "3                    Barolo Riserva Monfortino  Chardonnay              4.7\n",
       "4          Amarone della Valpolicella Classico  Chardonnay              4.7"
      ]
     },
     "execution_count": 13,
     "metadata": {},
     "output_type": "execute_result"
    }
   ],
   "source": [
    "q = \"\"\" \n",
    "WITH grape_ids AS (\n",
    "SELECT grape_id, SUM(wines_count) as total_wine, country_code\n",
    "FROM most_used_grapes_per_country\n",
    "GROUP BY grape_id\n",
    "ORDER BY total_wine DESC\n",
    "LIMIT 3),\n",
    "grape_name AS(\n",
    "SELECT name, id, country_code\n",
    "FROM grapes\n",
    "JOIN grape_ids ON grape_ids.grape_id = grapes.id),\n",
    "rating AS (\n",
    "SELECT wines.name, grape_name.name AS grape_name, wines.ratings_average \n",
    "FROM wines \n",
    "JOIN regions ON wines.region_id = regions.id\n",
    "JOIN grape_name ON grape_name.country_code = regions.country_code\n",
    "ORDER BY wines.ratings_average DESC),\n",
    "cabernet AS (\n",
    "SELECT *\n",
    "FROM rating \n",
    "WHERE grape_name = 'Cabernet Sauvignon'\n",
    "LIMIT 5),\n",
    "merlot AS (\n",
    "SELECT *\n",
    "FROM rating \n",
    "WHERE grape_name = 'Merlot'\n",
    "LIMIT 5)\n",
    "\n",
    "SELECT *\n",
    "FROM rating \n",
    "WHERE grape_name = 'Chardonnay'\n",
    "LIMIT 5\n",
    "\n",
    "\"\"\"\n",
    "\n",
    "cur.execute(q).fetchall()\n",
    "df = pd.read_sql_query(q, conn)\n",
    "df"
   ]
  },
  {
   "cell_type": "markdown",
   "metadata": {},
   "source": [
    "# We would like to create a country leaderboard. Come up with a visual that shows the average wine rating for each country. Do the same for the vintages."
   ]
  },
  {
   "cell_type": "code",
   "execution_count": 14,
   "metadata": {},
   "outputs": [
    {
     "data": {
      "application/vnd.plotly.v1+json": {
       "config": {
        "plotlyServerURL": "https://plot.ly"
       },
       "data": [
        {
         "hovertemplate": "Countries=%{x}<br>Wines Count=%{y}<extra></extra>",
         "legendgroup": "",
         "line": {
          "color": "#636efa",
          "dash": "solid"
         },
         "marker": {
          "symbol": "circle"
         },
         "mode": "lines",
         "name": "",
         "orientation": "v",
         "showlegend": false,
         "type": "scatter",
         "x": [
          "Italie",
          "France",
          "États-Unis",
          "Espagne",
          "Portugal",
          "Australie",
          "Hongrie",
          "Afrique du Sud",
          "Allemagne",
          "Chili",
          "Moldavie",
          "Argentine",
          "Grèce",
          "Israël",
          "Roumanie",
          "Croatie",
          "Suisse"
         ],
         "xaxis": "x",
         "y": [
          274658,
          422503,
          204060,
          102662,
          39847,
          90954,
          16605,
          30857,
          164533,
          41191,
          5055,
          36121,
          9581,
          5435,
          6841,
          5880,
          33656
         ],
         "yaxis": "y"
        }
       ],
       "layout": {
        "legend": {
         "tracegroupgap": 0
        },
        "margin": {
         "t": 60
        },
        "template": {
         "data": {
          "bar": [
           {
            "error_x": {
             "color": "#2a3f5f"
            },
            "error_y": {
             "color": "#2a3f5f"
            },
            "marker": {
             "line": {
              "color": "#E5ECF6",
              "width": 0.5
             },
             "pattern": {
              "fillmode": "overlay",
              "size": 10,
              "solidity": 0.2
             }
            },
            "type": "bar"
           }
          ],
          "barpolar": [
           {
            "marker": {
             "line": {
              "color": "#E5ECF6",
              "width": 0.5
             },
             "pattern": {
              "fillmode": "overlay",
              "size": 10,
              "solidity": 0.2
             }
            },
            "type": "barpolar"
           }
          ],
          "carpet": [
           {
            "aaxis": {
             "endlinecolor": "#2a3f5f",
             "gridcolor": "white",
             "linecolor": "white",
             "minorgridcolor": "white",
             "startlinecolor": "#2a3f5f"
            },
            "baxis": {
             "endlinecolor": "#2a3f5f",
             "gridcolor": "white",
             "linecolor": "white",
             "minorgridcolor": "white",
             "startlinecolor": "#2a3f5f"
            },
            "type": "carpet"
           }
          ],
          "choropleth": [
           {
            "colorbar": {
             "outlinewidth": 0,
             "ticks": ""
            },
            "type": "choropleth"
           }
          ],
          "contour": [
           {
            "colorbar": {
             "outlinewidth": 0,
             "ticks": ""
            },
            "colorscale": [
             [
              0,
              "#0d0887"
             ],
             [
              0.1111111111111111,
              "#46039f"
             ],
             [
              0.2222222222222222,
              "#7201a8"
             ],
             [
              0.3333333333333333,
              "#9c179e"
             ],
             [
              0.4444444444444444,
              "#bd3786"
             ],
             [
              0.5555555555555556,
              "#d8576b"
             ],
             [
              0.6666666666666666,
              "#ed7953"
             ],
             [
              0.7777777777777778,
              "#fb9f3a"
             ],
             [
              0.8888888888888888,
              "#fdca26"
             ],
             [
              1,
              "#f0f921"
             ]
            ],
            "type": "contour"
           }
          ],
          "contourcarpet": [
           {
            "colorbar": {
             "outlinewidth": 0,
             "ticks": ""
            },
            "type": "contourcarpet"
           }
          ],
          "heatmap": [
           {
            "colorbar": {
             "outlinewidth": 0,
             "ticks": ""
            },
            "colorscale": [
             [
              0,
              "#0d0887"
             ],
             [
              0.1111111111111111,
              "#46039f"
             ],
             [
              0.2222222222222222,
              "#7201a8"
             ],
             [
              0.3333333333333333,
              "#9c179e"
             ],
             [
              0.4444444444444444,
              "#bd3786"
             ],
             [
              0.5555555555555556,
              "#d8576b"
             ],
             [
              0.6666666666666666,
              "#ed7953"
             ],
             [
              0.7777777777777778,
              "#fb9f3a"
             ],
             [
              0.8888888888888888,
              "#fdca26"
             ],
             [
              1,
              "#f0f921"
             ]
            ],
            "type": "heatmap"
           }
          ],
          "heatmapgl": [
           {
            "colorbar": {
             "outlinewidth": 0,
             "ticks": ""
            },
            "colorscale": [
             [
              0,
              "#0d0887"
             ],
             [
              0.1111111111111111,
              "#46039f"
             ],
             [
              0.2222222222222222,
              "#7201a8"
             ],
             [
              0.3333333333333333,
              "#9c179e"
             ],
             [
              0.4444444444444444,
              "#bd3786"
             ],
             [
              0.5555555555555556,
              "#d8576b"
             ],
             [
              0.6666666666666666,
              "#ed7953"
             ],
             [
              0.7777777777777778,
              "#fb9f3a"
             ],
             [
              0.8888888888888888,
              "#fdca26"
             ],
             [
              1,
              "#f0f921"
             ]
            ],
            "type": "heatmapgl"
           }
          ],
          "histogram": [
           {
            "marker": {
             "pattern": {
              "fillmode": "overlay",
              "size": 10,
              "solidity": 0.2
             }
            },
            "type": "histogram"
           }
          ],
          "histogram2d": [
           {
            "colorbar": {
             "outlinewidth": 0,
             "ticks": ""
            },
            "colorscale": [
             [
              0,
              "#0d0887"
             ],
             [
              0.1111111111111111,
              "#46039f"
             ],
             [
              0.2222222222222222,
              "#7201a8"
             ],
             [
              0.3333333333333333,
              "#9c179e"
             ],
             [
              0.4444444444444444,
              "#bd3786"
             ],
             [
              0.5555555555555556,
              "#d8576b"
             ],
             [
              0.6666666666666666,
              "#ed7953"
             ],
             [
              0.7777777777777778,
              "#fb9f3a"
             ],
             [
              0.8888888888888888,
              "#fdca26"
             ],
             [
              1,
              "#f0f921"
             ]
            ],
            "type": "histogram2d"
           }
          ],
          "histogram2dcontour": [
           {
            "colorbar": {
             "outlinewidth": 0,
             "ticks": ""
            },
            "colorscale": [
             [
              0,
              "#0d0887"
             ],
             [
              0.1111111111111111,
              "#46039f"
             ],
             [
              0.2222222222222222,
              "#7201a8"
             ],
             [
              0.3333333333333333,
              "#9c179e"
             ],
             [
              0.4444444444444444,
              "#bd3786"
             ],
             [
              0.5555555555555556,
              "#d8576b"
             ],
             [
              0.6666666666666666,
              "#ed7953"
             ],
             [
              0.7777777777777778,
              "#fb9f3a"
             ],
             [
              0.8888888888888888,
              "#fdca26"
             ],
             [
              1,
              "#f0f921"
             ]
            ],
            "type": "histogram2dcontour"
           }
          ],
          "mesh3d": [
           {
            "colorbar": {
             "outlinewidth": 0,
             "ticks": ""
            },
            "type": "mesh3d"
           }
          ],
          "parcoords": [
           {
            "line": {
             "colorbar": {
              "outlinewidth": 0,
              "ticks": ""
             }
            },
            "type": "parcoords"
           }
          ],
          "pie": [
           {
            "automargin": true,
            "type": "pie"
           }
          ],
          "scatter": [
           {
            "fillpattern": {
             "fillmode": "overlay",
             "size": 10,
             "solidity": 0.2
            },
            "type": "scatter"
           }
          ],
          "scatter3d": [
           {
            "line": {
             "colorbar": {
              "outlinewidth": 0,
              "ticks": ""
             }
            },
            "marker": {
             "colorbar": {
              "outlinewidth": 0,
              "ticks": ""
             }
            },
            "type": "scatter3d"
           }
          ],
          "scattercarpet": [
           {
            "marker": {
             "colorbar": {
              "outlinewidth": 0,
              "ticks": ""
             }
            },
            "type": "scattercarpet"
           }
          ],
          "scattergeo": [
           {
            "marker": {
             "colorbar": {
              "outlinewidth": 0,
              "ticks": ""
             }
            },
            "type": "scattergeo"
           }
          ],
          "scattergl": [
           {
            "marker": {
             "colorbar": {
              "outlinewidth": 0,
              "ticks": ""
             }
            },
            "type": "scattergl"
           }
          ],
          "scattermapbox": [
           {
            "marker": {
             "colorbar": {
              "outlinewidth": 0,
              "ticks": ""
             }
            },
            "type": "scattermapbox"
           }
          ],
          "scatterpolar": [
           {
            "marker": {
             "colorbar": {
              "outlinewidth": 0,
              "ticks": ""
             }
            },
            "type": "scatterpolar"
           }
          ],
          "scatterpolargl": [
           {
            "marker": {
             "colorbar": {
              "outlinewidth": 0,
              "ticks": ""
             }
            },
            "type": "scatterpolargl"
           }
          ],
          "scatterternary": [
           {
            "marker": {
             "colorbar": {
              "outlinewidth": 0,
              "ticks": ""
             }
            },
            "type": "scatterternary"
           }
          ],
          "surface": [
           {
            "colorbar": {
             "outlinewidth": 0,
             "ticks": ""
            },
            "colorscale": [
             [
              0,
              "#0d0887"
             ],
             [
              0.1111111111111111,
              "#46039f"
             ],
             [
              0.2222222222222222,
              "#7201a8"
             ],
             [
              0.3333333333333333,
              "#9c179e"
             ],
             [
              0.4444444444444444,
              "#bd3786"
             ],
             [
              0.5555555555555556,
              "#d8576b"
             ],
             [
              0.6666666666666666,
              "#ed7953"
             ],
             [
              0.7777777777777778,
              "#fb9f3a"
             ],
             [
              0.8888888888888888,
              "#fdca26"
             ],
             [
              1,
              "#f0f921"
             ]
            ],
            "type": "surface"
           }
          ],
          "table": [
           {
            "cells": {
             "fill": {
              "color": "#EBF0F8"
             },
             "line": {
              "color": "white"
             }
            },
            "header": {
             "fill": {
              "color": "#C8D4E3"
             },
             "line": {
              "color": "white"
             }
            },
            "type": "table"
           }
          ]
         },
         "layout": {
          "annotationdefaults": {
           "arrowcolor": "#2a3f5f",
           "arrowhead": 0,
           "arrowwidth": 1
          },
          "autotypenumbers": "strict",
          "coloraxis": {
           "colorbar": {
            "outlinewidth": 0,
            "ticks": ""
           }
          },
          "colorscale": {
           "diverging": [
            [
             0,
             "#8e0152"
            ],
            [
             0.1,
             "#c51b7d"
            ],
            [
             0.2,
             "#de77ae"
            ],
            [
             0.3,
             "#f1b6da"
            ],
            [
             0.4,
             "#fde0ef"
            ],
            [
             0.5,
             "#f7f7f7"
            ],
            [
             0.6,
             "#e6f5d0"
            ],
            [
             0.7,
             "#b8e186"
            ],
            [
             0.8,
             "#7fbc41"
            ],
            [
             0.9,
             "#4d9221"
            ],
            [
             1,
             "#276419"
            ]
           ],
           "sequential": [
            [
             0,
             "#0d0887"
            ],
            [
             0.1111111111111111,
             "#46039f"
            ],
            [
             0.2222222222222222,
             "#7201a8"
            ],
            [
             0.3333333333333333,
             "#9c179e"
            ],
            [
             0.4444444444444444,
             "#bd3786"
            ],
            [
             0.5555555555555556,
             "#d8576b"
            ],
            [
             0.6666666666666666,
             "#ed7953"
            ],
            [
             0.7777777777777778,
             "#fb9f3a"
            ],
            [
             0.8888888888888888,
             "#fdca26"
            ],
            [
             1,
             "#f0f921"
            ]
           ],
           "sequentialminus": [
            [
             0,
             "#0d0887"
            ],
            [
             0.1111111111111111,
             "#46039f"
            ],
            [
             0.2222222222222222,
             "#7201a8"
            ],
            [
             0.3333333333333333,
             "#9c179e"
            ],
            [
             0.4444444444444444,
             "#bd3786"
            ],
            [
             0.5555555555555556,
             "#d8576b"
            ],
            [
             0.6666666666666666,
             "#ed7953"
            ],
            [
             0.7777777777777778,
             "#fb9f3a"
            ],
            [
             0.8888888888888888,
             "#fdca26"
            ],
            [
             1,
             "#f0f921"
            ]
           ]
          },
          "colorway": [
           "#636efa",
           "#EF553B",
           "#00cc96",
           "#ab63fa",
           "#FFA15A",
           "#19d3f3",
           "#FF6692",
           "#B6E880",
           "#FF97FF",
           "#FECB52"
          ],
          "font": {
           "color": "#2a3f5f"
          },
          "geo": {
           "bgcolor": "white",
           "lakecolor": "white",
           "landcolor": "#E5ECF6",
           "showlakes": true,
           "showland": true,
           "subunitcolor": "white"
          },
          "hoverlabel": {
           "align": "left"
          },
          "hovermode": "closest",
          "mapbox": {
           "style": "light"
          },
          "paper_bgcolor": "white",
          "plot_bgcolor": "#E5ECF6",
          "polar": {
           "angularaxis": {
            "gridcolor": "white",
            "linecolor": "white",
            "ticks": ""
           },
           "bgcolor": "#E5ECF6",
           "radialaxis": {
            "gridcolor": "white",
            "linecolor": "white",
            "ticks": ""
           }
          },
          "scene": {
           "xaxis": {
            "backgroundcolor": "#E5ECF6",
            "gridcolor": "white",
            "gridwidth": 2,
            "linecolor": "white",
            "showbackground": true,
            "ticks": "",
            "zerolinecolor": "white"
           },
           "yaxis": {
            "backgroundcolor": "#E5ECF6",
            "gridcolor": "white",
            "gridwidth": 2,
            "linecolor": "white",
            "showbackground": true,
            "ticks": "",
            "zerolinecolor": "white"
           },
           "zaxis": {
            "backgroundcolor": "#E5ECF6",
            "gridcolor": "white",
            "gridwidth": 2,
            "linecolor": "white",
            "showbackground": true,
            "ticks": "",
            "zerolinecolor": "white"
           }
          },
          "shapedefaults": {
           "line": {
            "color": "#2a3f5f"
           }
          },
          "ternary": {
           "aaxis": {
            "gridcolor": "white",
            "linecolor": "white",
            "ticks": ""
           },
           "baxis": {
            "gridcolor": "white",
            "linecolor": "white",
            "ticks": ""
           },
           "bgcolor": "#E5ECF6",
           "caxis": {
            "gridcolor": "white",
            "linecolor": "white",
            "ticks": ""
           }
          },
          "title": {
           "x": 0.05
          },
          "xaxis": {
           "automargin": true,
           "gridcolor": "white",
           "linecolor": "white",
           "ticks": "",
           "title": {
            "standoff": 15
           },
           "zerolinecolor": "white",
           "zerolinewidth": 2
          },
          "yaxis": {
           "automargin": true,
           "gridcolor": "white",
           "linecolor": "white",
           "ticks": "",
           "title": {
            "standoff": 15
           },
           "zerolinecolor": "white",
           "zerolinewidth": 2
          }
         }
        },
        "xaxis": {
         "anchor": "y",
         "domain": [
          0,
          1
         ],
         "title": {
          "text": "Countries"
         }
        },
        "yaxis": {
         "anchor": "x",
         "domain": [
          0,
          1
         ],
         "title": {
          "text": "Wines Count"
         }
        }
       }
      }
     },
     "metadata": {},
     "output_type": "display_data"
    }
   ],
   "source": [
    "q = \"\"\" \n",
    "SELECT name, wines_count\n",
    "FROM countries\n",
    "\n",
    "\"\"\"\n",
    "\n",
    "cur.execute(q).fetchall()\n",
    "df = pd.read_sql_query(q, conn)\n",
    "\n",
    "import plotly.express as px\n",
    "fig = px.line(df, x='name', y=\"wines_count\",\n",
    "               labels={\n",
    "                     \"name\": \"Countries\",\n",
    "                     \"wines_count\": \"Wines Count\"})\n",
    "fig.show()"
   ]
  },
  {
   "cell_type": "code",
   "execution_count": 15,
   "metadata": {},
   "outputs": [
    {
     "data": {
      "application/vnd.plotly.v1+json": {
       "config": {
        "plotlyServerURL": "https://plot.ly"
       },
       "data": [
        {
         "hovertemplate": "Countries=%{x}<br>average_rating=%{y}<extra></extra>",
         "legendgroup": "",
         "line": {
          "color": "#636efa",
          "dash": "solid"
         },
         "marker": {
          "symbol": "circle"
         },
         "mode": "lines",
         "name": "",
         "orientation": "v",
         "showlegend": false,
         "type": "scatter",
         "x": [
          "Afrique du Sud",
          "Allemagne",
          "Argentine",
          "Australie",
          "Chili",
          "Croatie",
          "Espagne",
          "France",
          "Grèce",
          "Hongrie",
          "Israël",
          "Italie",
          "Moldavie",
          "Portugal",
          "Roumanie",
          "Suisse",
          "États-Unis"
         ],
         "xaxis": "x",
         "y": [
          4.45909090909091,
          4.5,
          4.417391304347826,
          4.458333333333333,
          4.43125,
          4.3,
          4.443617021276595,
          4.447129909365559,
          4.4,
          4.472727272727273,
          4.5,
          4.430026109660575,
          4.4799999999999995,
          4.435714285714286,
          4.4,
          4.35,
          4.4905405405405405
         ],
         "yaxis": "y"
        }
       ],
       "layout": {
        "legend": {
         "tracegroupgap": 0
        },
        "margin": {
         "t": 60
        },
        "template": {
         "data": {
          "bar": [
           {
            "error_x": {
             "color": "#2a3f5f"
            },
            "error_y": {
             "color": "#2a3f5f"
            },
            "marker": {
             "line": {
              "color": "#E5ECF6",
              "width": 0.5
             },
             "pattern": {
              "fillmode": "overlay",
              "size": 10,
              "solidity": 0.2
             }
            },
            "type": "bar"
           }
          ],
          "barpolar": [
           {
            "marker": {
             "line": {
              "color": "#E5ECF6",
              "width": 0.5
             },
             "pattern": {
              "fillmode": "overlay",
              "size": 10,
              "solidity": 0.2
             }
            },
            "type": "barpolar"
           }
          ],
          "carpet": [
           {
            "aaxis": {
             "endlinecolor": "#2a3f5f",
             "gridcolor": "white",
             "linecolor": "white",
             "minorgridcolor": "white",
             "startlinecolor": "#2a3f5f"
            },
            "baxis": {
             "endlinecolor": "#2a3f5f",
             "gridcolor": "white",
             "linecolor": "white",
             "minorgridcolor": "white",
             "startlinecolor": "#2a3f5f"
            },
            "type": "carpet"
           }
          ],
          "choropleth": [
           {
            "colorbar": {
             "outlinewidth": 0,
             "ticks": ""
            },
            "type": "choropleth"
           }
          ],
          "contour": [
           {
            "colorbar": {
             "outlinewidth": 0,
             "ticks": ""
            },
            "colorscale": [
             [
              0,
              "#0d0887"
             ],
             [
              0.1111111111111111,
              "#46039f"
             ],
             [
              0.2222222222222222,
              "#7201a8"
             ],
             [
              0.3333333333333333,
              "#9c179e"
             ],
             [
              0.4444444444444444,
              "#bd3786"
             ],
             [
              0.5555555555555556,
              "#d8576b"
             ],
             [
              0.6666666666666666,
              "#ed7953"
             ],
             [
              0.7777777777777778,
              "#fb9f3a"
             ],
             [
              0.8888888888888888,
              "#fdca26"
             ],
             [
              1,
              "#f0f921"
             ]
            ],
            "type": "contour"
           }
          ],
          "contourcarpet": [
           {
            "colorbar": {
             "outlinewidth": 0,
             "ticks": ""
            },
            "type": "contourcarpet"
           }
          ],
          "heatmap": [
           {
            "colorbar": {
             "outlinewidth": 0,
             "ticks": ""
            },
            "colorscale": [
             [
              0,
              "#0d0887"
             ],
             [
              0.1111111111111111,
              "#46039f"
             ],
             [
              0.2222222222222222,
              "#7201a8"
             ],
             [
              0.3333333333333333,
              "#9c179e"
             ],
             [
              0.4444444444444444,
              "#bd3786"
             ],
             [
              0.5555555555555556,
              "#d8576b"
             ],
             [
              0.6666666666666666,
              "#ed7953"
             ],
             [
              0.7777777777777778,
              "#fb9f3a"
             ],
             [
              0.8888888888888888,
              "#fdca26"
             ],
             [
              1,
              "#f0f921"
             ]
            ],
            "type": "heatmap"
           }
          ],
          "heatmapgl": [
           {
            "colorbar": {
             "outlinewidth": 0,
             "ticks": ""
            },
            "colorscale": [
             [
              0,
              "#0d0887"
             ],
             [
              0.1111111111111111,
              "#46039f"
             ],
             [
              0.2222222222222222,
              "#7201a8"
             ],
             [
              0.3333333333333333,
              "#9c179e"
             ],
             [
              0.4444444444444444,
              "#bd3786"
             ],
             [
              0.5555555555555556,
              "#d8576b"
             ],
             [
              0.6666666666666666,
              "#ed7953"
             ],
             [
              0.7777777777777778,
              "#fb9f3a"
             ],
             [
              0.8888888888888888,
              "#fdca26"
             ],
             [
              1,
              "#f0f921"
             ]
            ],
            "type": "heatmapgl"
           }
          ],
          "histogram": [
           {
            "marker": {
             "pattern": {
              "fillmode": "overlay",
              "size": 10,
              "solidity": 0.2
             }
            },
            "type": "histogram"
           }
          ],
          "histogram2d": [
           {
            "colorbar": {
             "outlinewidth": 0,
             "ticks": ""
            },
            "colorscale": [
             [
              0,
              "#0d0887"
             ],
             [
              0.1111111111111111,
              "#46039f"
             ],
             [
              0.2222222222222222,
              "#7201a8"
             ],
             [
              0.3333333333333333,
              "#9c179e"
             ],
             [
              0.4444444444444444,
              "#bd3786"
             ],
             [
              0.5555555555555556,
              "#d8576b"
             ],
             [
              0.6666666666666666,
              "#ed7953"
             ],
             [
              0.7777777777777778,
              "#fb9f3a"
             ],
             [
              0.8888888888888888,
              "#fdca26"
             ],
             [
              1,
              "#f0f921"
             ]
            ],
            "type": "histogram2d"
           }
          ],
          "histogram2dcontour": [
           {
            "colorbar": {
             "outlinewidth": 0,
             "ticks": ""
            },
            "colorscale": [
             [
              0,
              "#0d0887"
             ],
             [
              0.1111111111111111,
              "#46039f"
             ],
             [
              0.2222222222222222,
              "#7201a8"
             ],
             [
              0.3333333333333333,
              "#9c179e"
             ],
             [
              0.4444444444444444,
              "#bd3786"
             ],
             [
              0.5555555555555556,
              "#d8576b"
             ],
             [
              0.6666666666666666,
              "#ed7953"
             ],
             [
              0.7777777777777778,
              "#fb9f3a"
             ],
             [
              0.8888888888888888,
              "#fdca26"
             ],
             [
              1,
              "#f0f921"
             ]
            ],
            "type": "histogram2dcontour"
           }
          ],
          "mesh3d": [
           {
            "colorbar": {
             "outlinewidth": 0,
             "ticks": ""
            },
            "type": "mesh3d"
           }
          ],
          "parcoords": [
           {
            "line": {
             "colorbar": {
              "outlinewidth": 0,
              "ticks": ""
             }
            },
            "type": "parcoords"
           }
          ],
          "pie": [
           {
            "automargin": true,
            "type": "pie"
           }
          ],
          "scatter": [
           {
            "fillpattern": {
             "fillmode": "overlay",
             "size": 10,
             "solidity": 0.2
            },
            "type": "scatter"
           }
          ],
          "scatter3d": [
           {
            "line": {
             "colorbar": {
              "outlinewidth": 0,
              "ticks": ""
             }
            },
            "marker": {
             "colorbar": {
              "outlinewidth": 0,
              "ticks": ""
             }
            },
            "type": "scatter3d"
           }
          ],
          "scattercarpet": [
           {
            "marker": {
             "colorbar": {
              "outlinewidth": 0,
              "ticks": ""
             }
            },
            "type": "scattercarpet"
           }
          ],
          "scattergeo": [
           {
            "marker": {
             "colorbar": {
              "outlinewidth": 0,
              "ticks": ""
             }
            },
            "type": "scattergeo"
           }
          ],
          "scattergl": [
           {
            "marker": {
             "colorbar": {
              "outlinewidth": 0,
              "ticks": ""
             }
            },
            "type": "scattergl"
           }
          ],
          "scattermapbox": [
           {
            "marker": {
             "colorbar": {
              "outlinewidth": 0,
              "ticks": ""
             }
            },
            "type": "scattermapbox"
           }
          ],
          "scatterpolar": [
           {
            "marker": {
             "colorbar": {
              "outlinewidth": 0,
              "ticks": ""
             }
            },
            "type": "scatterpolar"
           }
          ],
          "scatterpolargl": [
           {
            "marker": {
             "colorbar": {
              "outlinewidth": 0,
              "ticks": ""
             }
            },
            "type": "scatterpolargl"
           }
          ],
          "scatterternary": [
           {
            "marker": {
             "colorbar": {
              "outlinewidth": 0,
              "ticks": ""
             }
            },
            "type": "scatterternary"
           }
          ],
          "surface": [
           {
            "colorbar": {
             "outlinewidth": 0,
             "ticks": ""
            },
            "colorscale": [
             [
              0,
              "#0d0887"
             ],
             [
              0.1111111111111111,
              "#46039f"
             ],
             [
              0.2222222222222222,
              "#7201a8"
             ],
             [
              0.3333333333333333,
              "#9c179e"
             ],
             [
              0.4444444444444444,
              "#bd3786"
             ],
             [
              0.5555555555555556,
              "#d8576b"
             ],
             [
              0.6666666666666666,
              "#ed7953"
             ],
             [
              0.7777777777777778,
              "#fb9f3a"
             ],
             [
              0.8888888888888888,
              "#fdca26"
             ],
             [
              1,
              "#f0f921"
             ]
            ],
            "type": "surface"
           }
          ],
          "table": [
           {
            "cells": {
             "fill": {
              "color": "#EBF0F8"
             },
             "line": {
              "color": "white"
             }
            },
            "header": {
             "fill": {
              "color": "#C8D4E3"
             },
             "line": {
              "color": "white"
             }
            },
            "type": "table"
           }
          ]
         },
         "layout": {
          "annotationdefaults": {
           "arrowcolor": "#2a3f5f",
           "arrowhead": 0,
           "arrowwidth": 1
          },
          "autotypenumbers": "strict",
          "coloraxis": {
           "colorbar": {
            "outlinewidth": 0,
            "ticks": ""
           }
          },
          "colorscale": {
           "diverging": [
            [
             0,
             "#8e0152"
            ],
            [
             0.1,
             "#c51b7d"
            ],
            [
             0.2,
             "#de77ae"
            ],
            [
             0.3,
             "#f1b6da"
            ],
            [
             0.4,
             "#fde0ef"
            ],
            [
             0.5,
             "#f7f7f7"
            ],
            [
             0.6,
             "#e6f5d0"
            ],
            [
             0.7,
             "#b8e186"
            ],
            [
             0.8,
             "#7fbc41"
            ],
            [
             0.9,
             "#4d9221"
            ],
            [
             1,
             "#276419"
            ]
           ],
           "sequential": [
            [
             0,
             "#0d0887"
            ],
            [
             0.1111111111111111,
             "#46039f"
            ],
            [
             0.2222222222222222,
             "#7201a8"
            ],
            [
             0.3333333333333333,
             "#9c179e"
            ],
            [
             0.4444444444444444,
             "#bd3786"
            ],
            [
             0.5555555555555556,
             "#d8576b"
            ],
            [
             0.6666666666666666,
             "#ed7953"
            ],
            [
             0.7777777777777778,
             "#fb9f3a"
            ],
            [
             0.8888888888888888,
             "#fdca26"
            ],
            [
             1,
             "#f0f921"
            ]
           ],
           "sequentialminus": [
            [
             0,
             "#0d0887"
            ],
            [
             0.1111111111111111,
             "#46039f"
            ],
            [
             0.2222222222222222,
             "#7201a8"
            ],
            [
             0.3333333333333333,
             "#9c179e"
            ],
            [
             0.4444444444444444,
             "#bd3786"
            ],
            [
             0.5555555555555556,
             "#d8576b"
            ],
            [
             0.6666666666666666,
             "#ed7953"
            ],
            [
             0.7777777777777778,
             "#fb9f3a"
            ],
            [
             0.8888888888888888,
             "#fdca26"
            ],
            [
             1,
             "#f0f921"
            ]
           ]
          },
          "colorway": [
           "#636efa",
           "#EF553B",
           "#00cc96",
           "#ab63fa",
           "#FFA15A",
           "#19d3f3",
           "#FF6692",
           "#B6E880",
           "#FF97FF",
           "#FECB52"
          ],
          "font": {
           "color": "#2a3f5f"
          },
          "geo": {
           "bgcolor": "white",
           "lakecolor": "white",
           "landcolor": "#E5ECF6",
           "showlakes": true,
           "showland": true,
           "subunitcolor": "white"
          },
          "hoverlabel": {
           "align": "left"
          },
          "hovermode": "closest",
          "mapbox": {
           "style": "light"
          },
          "paper_bgcolor": "white",
          "plot_bgcolor": "#E5ECF6",
          "polar": {
           "angularaxis": {
            "gridcolor": "white",
            "linecolor": "white",
            "ticks": ""
           },
           "bgcolor": "#E5ECF6",
           "radialaxis": {
            "gridcolor": "white",
            "linecolor": "white",
            "ticks": ""
           }
          },
          "scene": {
           "xaxis": {
            "backgroundcolor": "#E5ECF6",
            "gridcolor": "white",
            "gridwidth": 2,
            "linecolor": "white",
            "showbackground": true,
            "ticks": "",
            "zerolinecolor": "white"
           },
           "yaxis": {
            "backgroundcolor": "#E5ECF6",
            "gridcolor": "white",
            "gridwidth": 2,
            "linecolor": "white",
            "showbackground": true,
            "ticks": "",
            "zerolinecolor": "white"
           },
           "zaxis": {
            "backgroundcolor": "#E5ECF6",
            "gridcolor": "white",
            "gridwidth": 2,
            "linecolor": "white",
            "showbackground": true,
            "ticks": "",
            "zerolinecolor": "white"
           }
          },
          "shapedefaults": {
           "line": {
            "color": "#2a3f5f"
           }
          },
          "ternary": {
           "aaxis": {
            "gridcolor": "white",
            "linecolor": "white",
            "ticks": ""
           },
           "baxis": {
            "gridcolor": "white",
            "linecolor": "white",
            "ticks": ""
           },
           "bgcolor": "#E5ECF6",
           "caxis": {
            "gridcolor": "white",
            "linecolor": "white",
            "ticks": ""
           }
          },
          "title": {
           "x": 0.05
          },
          "xaxis": {
           "automargin": true,
           "gridcolor": "white",
           "linecolor": "white",
           "ticks": "",
           "title": {
            "standoff": 15
           },
           "zerolinecolor": "white",
           "zerolinewidth": 2
          },
          "yaxis": {
           "automargin": true,
           "gridcolor": "white",
           "linecolor": "white",
           "ticks": "",
           "title": {
            "standoff": 15
           },
           "zerolinecolor": "white",
           "zerolinewidth": 2
          }
         }
        },
        "xaxis": {
         "anchor": "y",
         "domain": [
          0,
          1
         ],
         "title": {
          "text": "Countries"
         }
        },
        "yaxis": {
         "anchor": "x",
         "domain": [
          0,
          1
         ],
         "title": {
          "text": "average_rating"
         }
        }
       }
      }
     },
     "metadata": {},
     "output_type": "display_data"
    }
   ],
   "source": [
    "q = \"\"\" \n",
    "SELECT region_id, AVG(ratings_average) as average_rating, countries.name\n",
    "FROM wines\n",
    "JOIN regions ON regions.id = wines.region_id\n",
    "JOIN countries ON regions.country_code = countries.code\n",
    "GROUP BY countries.name\n",
    "\n",
    "\n",
    "\"\"\"\n",
    "\n",
    "cur.execute(q).fetchall()\n",
    "df = pd.read_sql_query(q, conn)\n",
    "df\n",
    "import plotly.express as px\n",
    "fig = px.line(df, x='name', y=\"average_rating\",\n",
    "               labels={\n",
    "                     \"name\": \"Countries\",\n",
    "                     \"wines_count\": \"Wines Rating\"})\n",
    "fig.show()"
   ]
  },
  {
   "cell_type": "markdown",
   "metadata": {},
   "source": [
    "# One of our VIP clients likes _Cabernet Sauvignon_ and would like our top 5 recommendations. Which wines would you recommend to him?\n"
   ]
  },
  {
   "cell_type": "code",
   "execution_count": 16,
   "metadata": {},
   "outputs": [
    {
     "data": {
      "text/html": [
       "<div>\n",
       "<style scoped>\n",
       "    .dataframe tbody tr th:only-of-type {\n",
       "        vertical-align: middle;\n",
       "    }\n",
       "\n",
       "    .dataframe tbody tr th {\n",
       "        vertical-align: top;\n",
       "    }\n",
       "\n",
       "    .dataframe thead th {\n",
       "        text-align: right;\n",
       "    }\n",
       "</style>\n",
       "<table border=\"1\" class=\"dataframe\">\n",
       "  <thead>\n",
       "    <tr style=\"text-align: right;\">\n",
       "      <th></th>\n",
       "      <th>name</th>\n",
       "      <th>avg_acidity</th>\n",
       "      <th>avg_fizziness</th>\n",
       "      <th>avg_intensity</th>\n",
       "      <th>avg_sweetness</th>\n",
       "      <th>avg_tannin</th>\n",
       "      <th>acidity_difference</th>\n",
       "      <th>intensity_difference</th>\n",
       "      <th>sweetness_difference</th>\n",
       "      <th>tannin_difference</th>\n",
       "      <th>combined_difference</th>\n",
       "    </tr>\n",
       "  </thead>\n",
       "  <tbody>\n",
       "    <tr>\n",
       "      <th>0</th>\n",
       "      <td>Altura</td>\n",
       "      <td>3.088019</td>\n",
       "      <td>None</td>\n",
       "      <td>4.335320</td>\n",
       "      <td>1.750534</td>\n",
       "      <td>3.434145</td>\n",
       "      <td>0.223193</td>\n",
       "      <td>0.060686</td>\n",
       "      <td>0.002190</td>\n",
       "      <td>0.015943</td>\n",
       "      <td>4.729554e-07</td>\n",
       "    </tr>\n",
       "    <tr>\n",
       "      <th>1</th>\n",
       "      <td>Montelìg</td>\n",
       "      <td>3.112812</td>\n",
       "      <td>None</td>\n",
       "      <td>4.594468</td>\n",
       "      <td>1.748861</td>\n",
       "      <td>3.491792</td>\n",
       "      <td>0.198399</td>\n",
       "      <td>0.198462</td>\n",
       "      <td>0.000517</td>\n",
       "      <td>0.041703</td>\n",
       "      <td>8.490276e-07</td>\n",
       "    </tr>\n",
       "    <tr>\n",
       "      <th>2</th>\n",
       "      <td>Victorino</td>\n",
       "      <td>2.778029</td>\n",
       "      <td>None</td>\n",
       "      <td>4.398544</td>\n",
       "      <td>1.834238</td>\n",
       "      <td>3.422341</td>\n",
       "      <td>0.533183</td>\n",
       "      <td>0.002538</td>\n",
       "      <td>0.085894</td>\n",
       "      <td>0.027747</td>\n",
       "      <td>3.224923e-06</td>\n",
       "    </tr>\n",
       "  </tbody>\n",
       "</table>\n",
       "</div>"
      ],
      "text/plain": [
       "        name  avg_acidity avg_fizziness  avg_intensity  avg_sweetness  \\\n",
       "0     Altura     3.088019          None       4.335320       1.750534   \n",
       "1   Montelìg     3.112812          None       4.594468       1.748861   \n",
       "2  Victorino     2.778029          None       4.398544       1.834238   \n",
       "\n",
       "   avg_tannin  acidity_difference  intensity_difference  sweetness_difference  \\\n",
       "0    3.434145            0.223193              0.060686              0.002190   \n",
       "1    3.491792            0.198399              0.198462              0.000517   \n",
       "2    3.422341            0.533183              0.002538              0.085894   \n",
       "\n",
       "   tannin_difference  combined_difference  \n",
       "0           0.015943         4.729554e-07  \n",
       "1           0.041703         8.490276e-07  \n",
       "2           0.027747         3.224923e-06  "
      ]
     },
     "execution_count": 16,
     "metadata": {},
     "output_type": "execute_result"
    }
   ],
   "source": [
    "q = \"\"\" \n",
    "WITH w AS (\n",
    "    SELECT\n",
    "        name,\n",
    "        AVG(acidity) AS avg_acidity,\n",
    "        AVG(fizziness) AS avg_fizziness,\n",
    "        AVG(intensity) AS avg_intensity,\n",
    "        AVG(sweetness) AS avg_sweetness,\n",
    "        AVG(tannin) AS avg_tannin\n",
    "    FROM wines\n",
    "    WHERE acidity IS NOT NULL AND intensity IS NOT NULL \n",
    "          AND sweetness IS NOT NULL AND tannin IS NOT NULL\n",
    "    GROUP BY name\n",
    "), \n",
    "a AS (\n",
    "    SELECT         \n",
    "        AVG(acidity) AS avg_acidity,\n",
    "        AVG(fizziness) AS avg_fizziness,\n",
    "        AVG(intensity) AS avg_intensity,\n",
    "        AVG(sweetness) AS avg_sweetness,\n",
    "        AVG(tannin) AS avg_tannin\n",
    "    FROM wines\n",
    "    WHERE name = 'Cabernet Sauvignon'\n",
    ")\n",
    "SELECT w.name,\n",
    "       w.avg_acidity,\n",
    "       w.avg_fizziness,\n",
    "       w.avg_intensity,\n",
    "       w.avg_sweetness,\n",
    "       w.avg_tannin,\n",
    "       ABS(w.avg_acidity - a.avg_acidity) as acidity_difference,\n",
    "       ABS(w.avg_intensity - a.avg_intensity) as intensity_difference,\n",
    "       ABS(w.avg_sweetness - a.avg_sweetness) as sweetness_difference,\n",
    "       ABS(w.avg_tannin - a.avg_tannin) as tannin_difference,\n",
    "       (ABS(w.avg_acidity - a.avg_acidity) *  ABS(w.avg_intensity - a.avg_intensity) * ABS(w.avg_sweetness - a.avg_sweetness) * ABS(w.avg_tannin - a.avg_tannin)) AS combined_difference\n",
    "       \n",
    "FROM w\n",
    "JOIN a\n",
    "WHERE name NOT LIKE '%Cabernet Sauvignon%' \n",
    "ORDER BY combined_difference\n",
    "LIMIT 3\n",
    "\n",
    "\"\"\"\n",
    "\n",
    "cur.execute(q).fetchall()\n",
    "df = pd.read_sql_query(q, conn)\n",
    "df\n"
   ]
  },
  {
   "cell_type": "code",
   "execution_count": null,
   "metadata": {},
   "outputs": [],
   "source": []
  }
 ],
 "metadata": {
  "kernelspec": {
   "display_name": "Python 3",
   "language": "python",
   "name": "python3"
  },
  "language_info": {
   "codemirror_mode": {
    "name": "ipython",
    "version": 3
   },
   "file_extension": ".py",
   "mimetype": "text/x-python",
   "name": "python",
   "nbconvert_exporter": "python",
   "pygments_lexer": "ipython3",
   "version": "3.12.1"
  }
 },
 "nbformat": 4,
 "nbformat_minor": 2
}
